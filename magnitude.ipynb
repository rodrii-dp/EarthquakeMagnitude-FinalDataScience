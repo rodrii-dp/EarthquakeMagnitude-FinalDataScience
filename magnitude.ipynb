{
 "cells": [
  {
   "cell_type": "code",
   "id": "initial_id",
   "metadata": {
    "collapsed": true,
    "ExecuteTime": {
     "end_time": "2024-10-21T09:47:31.440235Z",
     "start_time": "2024-10-21T09:47:17.144492Z"
    }
   },
   "source": [
    "import requests\n",
    "import pandas as pd\n",
    "\n",
    "url = 'https://earthquake.usgs.gov/fdsnws/event/1/query'\n",
    "\n",
    "params = {\n",
    "    'format': 'geojson',\n",
    "    'starttime': '2014-10-21',\n",
    "    'endtime': '2015-10-21',\n",
    "    'minmagnitude': 0,\n",
    "    'limit': 20000,\n",
    "}\n",
    "\n",
    "response = requests.get(url, params=params)\n",
    "\n",
    "if response.status_code == 200:\n",
    "    data = response.json()\n",
    "\n",
    "    earthquakes = []\n",
    "    for feature in data['features']:\n",
    "        properties = feature['properties']\n",
    "        geometry = feature['geometry']\n",
    "\n",
    "        earthquake_info = {\n",
    "            'place': properties['place'],\n",
    "            'magnitude': properties['mag'],\n",
    "            'time': pd.to_datetime(properties['time'], unit='ms'),\n",
    "            'latitude': geometry['coordinates'][1],\n",
    "            'longitude': geometry['coordinates'][0],\n",
    "            'depth': geometry['coordinates'][2],\n",
    "        }\n",
    "        earthquakes.append(earthquake_info)\n",
    "\n",
    "    df = pd.DataFrame(earthquakes)\n",
    "\n",
    "    df.to_csv('earthquakes_last_10_years.csv', index=False)\n",
    "    print(\"Datos guardados en 'earthquakes_last_10_years.csv'.\")\n",
    "\n",
    "    df.to_excel('earthquakes_last_10_years.xlsx', index=False)\n",
    "    print(\"Datos guardados en 'earthquakes_last_10_years.xlsx'.\")\n",
    "\n",
    "else:\n",
    "    print(f\"Error en la solicitud: {response.status_code}\")\n"
   ],
   "outputs": [
    {
     "name": "stdout",
     "output_type": "stream",
     "text": [
      "Datos guardados en 'earthquakes_last_10_years.csv'.\n",
      "Datos guardados en 'earthquakes_last_10_years.xlsx'.\n"
     ]
    }
   ],
   "execution_count": 1
  }
 ],
 "metadata": {
  "kernelspec": {
   "display_name": "Python 3",
   "language": "python",
   "name": "python3"
  },
  "language_info": {
   "codemirror_mode": {
    "name": "ipython",
    "version": 2
   },
   "file_extension": ".py",
   "mimetype": "text/x-python",
   "name": "python",
   "nbconvert_exporter": "python",
   "pygments_lexer": "ipython2",
   "version": "2.7.6"
  }
 },
 "nbformat": 4,
 "nbformat_minor": 5
}
