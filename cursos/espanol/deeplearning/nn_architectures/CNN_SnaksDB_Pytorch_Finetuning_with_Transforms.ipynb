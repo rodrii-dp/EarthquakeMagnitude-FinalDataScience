{
  "cells": [
    {
      "cell_type": "markdown",
      "id": "0ffe360a-bd96-428d-a26e-0554907e8c8c",
      "metadata": {
        "id": "0ffe360a-bd96-428d-a26e-0554907e8c8c"
      },
      "source": [
        "# CNN con Pytorch\n",
        "\n",
        "Repetimos el ejemplo de Keras pero ahora utilizando Pytorch. Como veremos es mucho mas complejo ya que nos permite definir mas en detalle todo el proceso."
      ]
    },
    {
      "cell_type": "code",
      "execution_count": 1,
      "id": "459a19f6-be89-491f-a719-c59d914cfe68",
      "metadata": {
        "id": "459a19f6-be89-491f-a719-c59d914cfe68"
      },
      "outputs": [],
      "source": [
        "import os\n",
        "import pandas as pd\n",
        "import numpy as np\n",
        "\n",
        "import torch\n",
        "import torch.nn as nn\n",
        "import torch.nn.functional as F\n",
        "import torch.optim as optim\n",
        "from torch.utils.data import Dataset\n",
        "from torchvision import transforms\n",
        "from torch.optim.lr_scheduler import StepLR\n",
        "\n",
        "torch.manual_seed(42)\n",
        "device = torch.device(\"cuda\" if torch.cuda.is_available() else \"cpu\")"
      ]
    },
    {
      "cell_type": "markdown",
      "id": "06b33e7c-8930-43b3-9fc4-01d98a09cb3e",
      "metadata": {
        "id": "06b33e7c-8930-43b3-9fc4-01d98a09cb3e"
      },
      "source": [
        "Definimos la arquitectura de la CNN"
      ]
    },
    {
      "cell_type": "markdown",
      "id": "12b8d564-915f-4d7d-a3f9-5dbca76659d5",
      "metadata": {
        "id": "12b8d564-915f-4d7d-a3f9-5dbca76659d5"
      },
      "source": [
        "Definimos como el modelo debe cargar los datos"
      ]
    },
    {
      "cell_type": "code",
      "execution_count": 2,
      "id": "5bbcbd3d-a2fe-4abb-bcd8-f588393fbf81",
      "metadata": {
        "id": "5bbcbd3d-a2fe-4abb-bcd8-f588393fbf81"
      },
      "outputs": [],
      "source": [
        "class MyDataset(Dataset):\n",
        "    def __init__(self, dataset, transforms):\n",
        "        self.dataset = dataset\n",
        "        self.transforms = transforms\n",
        "\n",
        "    def __len__(self):\n",
        "        return len(self.dataset)\n",
        "\n",
        "    def __getitem__(self, idx):\n",
        "        image = self.dataset[idx][\"image\"]\n",
        "        label = F.one_hot(torch.tensor(self.dataset[idx][\"label\"]), num_classes=20).float()\n",
        "\n",
        "        image = self.transforms(image)\n",
        "        return image, label"
      ]
    },
    {
      "cell_type": "markdown",
      "id": "ebba3e15-ce5e-4969-b762-038d10e5810e",
      "metadata": {
        "id": "ebba3e15-ce5e-4969-b762-038d10e5810e"
      },
      "source": [
        "Definimos el proceso de entrenamiento paso a paso"
      ]
    },
    {
      "cell_type": "code",
      "execution_count": 3,
      "id": "9e69f539-9be9-49e1-96f9-ee1a014b1102",
      "metadata": {
        "id": "9e69f539-9be9-49e1-96f9-ee1a014b1102"
      },
      "outputs": [],
      "source": [
        "def train(model, device, train_loader, criterion, optimizer, epoch):\n",
        "    model.train()\n",
        "    for batch_idx, (data, target) in enumerate(train_loader):\n",
        "        data, target = data.to(device), target.to(device)\n",
        "        optimizer.zero_grad()\n",
        "        output = model(data)\n",
        "        loss = criterion(output, target)\n",
        "        loss.backward()\n",
        "        optimizer.step()\n",
        "        if batch_idx % 10 == 0:\n",
        "            print(f'Train Epoch: {epoch} [{batch_idx * len(data)}/{len(train_loader.dataset)} ({100. * batch_idx / len(train_loader):.0f}%)]\\tLoss: {loss.item():.6f}')"
      ]
    },
    {
      "cell_type": "markdown",
      "id": "c730aae3-219e-4adc-961f-75623706e0e0",
      "metadata": {
        "id": "c730aae3-219e-4adc-961f-75623706e0e0"
      },
      "source": [
        "Definimos el proceso de validacion paso a paso"
      ]
    },
    {
      "cell_type": "code",
      "execution_count": 4,
      "id": "a67e04e7-027b-459a-ad02-cab655b7ab48",
      "metadata": {
        "id": "a67e04e7-027b-459a-ad02-cab655b7ab48"
      },
      "outputs": [],
      "source": [
        "def validation(model, device, val_loader, criterion):\n",
        "    model.eval()\n",
        "    val_loss = 0\n",
        "    correct = 0\n",
        "    with torch.no_grad():\n",
        "        for data, target in val_loader:\n",
        "            data, target = data.to(device), target.to(device)\n",
        "            output = model(data)\n",
        "            val_loss += criterion(output, target).item()  # sum up batch loss\n",
        "            pred = output.argmax(dim=1, keepdim=True)  # get the index of the max log-probability\n",
        "            target = target.argmax(dim=1, keepdim=True)\n",
        "            correct += pred.eq(target).sum().item()\n",
        "\n",
        "    val_loss /= len(val_loader.dataset)\n",
        "    print(f'\\nTest set: Average loss: {val_loss:.4f}, Accuracy: {correct}/{len(val_loader.dataset)} ({100. * correct / len(val_loader.dataset):.0f}%)\\n')"
      ]
    },
    {
      "cell_type": "markdown",
      "id": "b03f913e-b00c-44b6-8931-d4bcfd0465d2",
      "metadata": {
        "id": "b03f913e-b00c-44b6-8931-d4bcfd0465d2"
      },
      "source": [
        "Cargamos los datos igual que hicimos antes"
      ]
    },
    {
      "cell_type": "code",
      "execution_count": 5,
      "id": "f78e21d7-d424-4efb-aa61-673a73aa8c3b",
      "metadata": {
        "id": "f78e21d7-d424-4efb-aa61-673a73aa8c3b",
        "colab": {
          "base_uri": "https://localhost:8080/"
        },
        "outputId": "68180578-ce89-4f18-abc6-87592a4cfcd7"
      },
      "outputs": [
        {
          "output_type": "stream",
          "name": "stdout",
          "text": [
            "\u001b[?25l   \u001b[90m━━━━━━━━━━━━━━━━━━━━━━━━━━━━━━━━━━━━━━━━\u001b[0m \u001b[32m0.0/480.6 kB\u001b[0m \u001b[31m?\u001b[0m eta \u001b[36m-:--:--\u001b[0m\r\u001b[2K   \u001b[91m━━━━━━━━━━━━━━━━━━━━━━━━━━━━━━━━━━━━━━━\u001b[0m\u001b[90m╺\u001b[0m \u001b[32m471.0/480.6 kB\u001b[0m \u001b[31m38.7 MB/s\u001b[0m eta \u001b[36m0:00:01\u001b[0m\r\u001b[2K   \u001b[90m━━━━━━━━━━━━━━━━━━━━━━━━━━━━━━━━━━━━━━━━\u001b[0m \u001b[32m480.6/480.6 kB\u001b[0m \u001b[31m9.1 MB/s\u001b[0m eta \u001b[36m0:00:00\u001b[0m\n",
            "\u001b[?25h\u001b[?25l   \u001b[90m━━━━━━━━━━━━━━━━━━━━━━━━━━━━━━━━━━━━━━━━\u001b[0m \u001b[32m0.0/116.3 kB\u001b[0m \u001b[31m?\u001b[0m eta \u001b[36m-:--:--\u001b[0m\r\u001b[2K   \u001b[90m━━━━━━━━━━━━━━━━━━━━━━━━━━━━━━━━━━━━━━━━\u001b[0m \u001b[32m116.3/116.3 kB\u001b[0m \u001b[31m5.0 MB/s\u001b[0m eta \u001b[36m0:00:00\u001b[0m\n",
            "\u001b[2K   \u001b[90m━━━━━━━━━━━━━━━━━━━━━━━━━━━━━━━━━━━━━━━━\u001b[0m \u001b[32m179.3/179.3 kB\u001b[0m \u001b[31m14.5 MB/s\u001b[0m eta \u001b[36m0:00:00\u001b[0m\n",
            "\u001b[2K   \u001b[90m━━━━━━━━━━━━━━━━━━━━━━━━━━━━━━━━━━━━━━━━\u001b[0m \u001b[32m134.8/134.8 kB\u001b[0m \u001b[31m11.9 MB/s\u001b[0m eta \u001b[36m0:00:00\u001b[0m\n",
            "\u001b[2K   \u001b[90m━━━━━━━━━━━━━━━━━━━━━━━━━━━━━━━━━━━━━━━━\u001b[0m \u001b[32m194.1/194.1 kB\u001b[0m \u001b[31m16.5 MB/s\u001b[0m eta \u001b[36m0:00:00\u001b[0m\n",
            "\u001b[?25h\u001b[31mERROR: pip's dependency resolver does not currently take into account all the packages that are installed. This behaviour is the source of the following dependency conflicts.\n",
            "gcsfs 2024.10.0 requires fsspec==2024.10.0, but you have fsspec 2024.9.0 which is incompatible.\u001b[0m\u001b[31m\n",
            "\u001b[0m"
          ]
        }
      ],
      "source": [
        "!pip install datasets --upgrade --quiet"
      ]
    },
    {
      "cell_type": "code",
      "execution_count": 6,
      "id": "95E-9qBqU4YC",
      "metadata": {
        "colab": {
          "base_uri": "https://localhost:8080/",
          "height": 379,
          "referenced_widgets": [
            "cbde364a15a04d748762a254016ae774",
            "3aa753f7bff3469792edea7e4df5b099",
            "ce72a6b8e038401bb0bab54b8bd422ce",
            "d3fa25ba57d64b5fb5f1794d351ab2f9",
            "bf76fa2a8fde45ee9fc1b730931f4a04",
            "7f2bdbaa45474da5a63ad077edcd7810",
            "b8b6f55f456a423cb1658d4fba401673",
            "c3315a47409e495099ee31cc3d47ba2d",
            "0dcd43264539409b8983718e2e5bf75c",
            "50bcf14dd0fd44c4b563ed897ad539cd",
            "a3f1add070124869bf4db97e3595b597",
            "d3d9b6b8e611429ab7c32f616fa0c32f",
            "ce2057f0cbbc4194922d36a8c4626b11",
            "ce227dc964cd4aefaa9a8b1215208832",
            "b29baf0ccac34e7bb890660787faec05",
            "03a69aae2d394cdbb4b886b8116a5f16",
            "defd1087fa3b474aa05cd76317b17038",
            "cce33540fa86433e93b37097355e772b",
            "ddb3b2267d3f4a5ca52a17ae35ffa3f2",
            "9e5c5bd5c32d48c788c955e36917b3ce",
            "4f98863287904abcad5d371e4e1ca559",
            "762ba42d975048d38a720dbf14609f18"
          ]
        },
        "id": "95E-9qBqU4YC",
        "outputId": "a9e53e78-0b66-4419-e7d9-197f55358fe0"
      },
      "outputs": [
        {
          "output_type": "stream",
          "name": "stderr",
          "text": [
            "/usr/local/lib/python3.10/dist-packages/huggingface_hub/utils/_token.py:89: UserWarning: \n",
            "The secret `HF_TOKEN` does not exist in your Colab secrets.\n",
            "To authenticate with the Hugging Face Hub, create a token in your settings tab (https://huggingface.co/settings/tokens), set it as secret in your Google Colab and restart your session.\n",
            "You will be able to reuse this secret in all of your notebooks.\n",
            "Please note that authentication is recommended but still optional to access public models or datasets.\n",
            "  warnings.warn(\n"
          ]
        },
        {
          "output_type": "display_data",
          "data": {
            "text/plain": [
              "Fruits.zip:   0%|          | 0.00/178k [00:00<?, ?B/s]"
            ],
            "application/vnd.jupyter.widget-view+json": {
              "version_major": 2,
              "version_minor": 0,
              "model_id": "cbde364a15a04d748762a254016ae774"
            }
          },
          "metadata": {}
        },
        {
          "output_type": "display_data",
          "data": {
            "text/plain": [
              "Generating train split:   0%|          | 0/23 [00:00<?, ? examples/s]"
            ],
            "application/vnd.jupyter.widget-view+json": {
              "version_major": 2,
              "version_minor": 0,
              "model_id": "d3d9b6b8e611429ab7c32f616fa0c32f"
            }
          },
          "metadata": {}
        },
        {
          "output_type": "execute_result",
          "data": {
            "text/plain": [
              "DatasetDict({\n",
              "    train: Dataset({\n",
              "        features: ['image', 'label'],\n",
              "        num_rows: 18\n",
              "    })\n",
              "    test: Dataset({\n",
              "        features: ['image', 'label'],\n",
              "        num_rows: 5\n",
              "    })\n",
              "})"
            ]
          },
          "metadata": {},
          "execution_count": 6
        }
      ],
      "source": [
        "from datasets import load_dataset\n",
        "\n",
        "ds = load_dataset(\"Sonam02/Fruit\", split=\"train\")\n",
        "ds = ds.train_test_split(test_size=0.2, shuffle=True, stratify_by_column='label')\n",
        "ds"
      ]
    },
    {
      "cell_type": "code",
      "execution_count": 7,
      "id": "2PJarrV9WjW2",
      "metadata": {
        "colab": {
          "base_uri": "https://localhost:8080/"
        },
        "id": "2PJarrV9WjW2",
        "outputId": "07735bde-c447-4880-c5f1-718bdfc1124c"
      },
      "outputs": [
        {
          "output_type": "execute_result",
          "data": {
            "text/plain": [
              "{'image': <PIL.JpegImagePlugin.JpegImageFile image mode=RGB size=300x168>,\n",
              " 'label': 1}"
            ]
          },
          "metadata": {},
          "execution_count": 7
        }
      ],
      "source": [
        "fila_ejemplo = ds['train'][0]\n",
        "fila_ejemplo"
      ]
    },
    {
      "cell_type": "code",
      "execution_count": 8,
      "id": "ANu-kOB-Wrj6",
      "metadata": {
        "colab": {
          "base_uri": "https://localhost:8080/",
          "height": 202
        },
        "id": "ANu-kOB-Wrj6",
        "outputId": "e8635e77-8ed9-4157-d7a4-705676af4372"
      },
      "outputs": [
        {
          "output_type": "stream",
          "name": "stdout",
          "text": [
            "(168, 300, 3)\n"
          ]
        },
        {
          "output_type": "execute_result",
          "data": {
            "text/plain": [
              "<PIL.JpegImagePlugin.JpegImageFile image mode=RGB size=300x168>"
            ],
            "image/png": "[encoded data removed]",
            "image/jpeg": "[encoded data removed]"
          },
          "metadata": {},
          "execution_count": 8
        }
      ],
      "source": [
        "print(np.array(fila_ejemplo['image']).shape)\n",
        "fila_ejemplo['image']"
      ]
    },
    {
      "cell_type": "code",
      "execution_count": 9,
      "id": "mAjw_EvWWroL",
      "metadata": {
        "colab": {
          "base_uri": "https://localhost:8080/"
        },
        "id": "mAjw_EvWWroL",
        "outputId": "29da2b32-4f23-4206-f5d1-37da20de9bd0"
      },
      "outputs": [
        {
          "output_type": "execute_result",
          "data": {
            "text/plain": [
              "1"
            ]
          },
          "metadata": {},
          "execution_count": 9
        }
      ],
      "source": [
        "fila_ejemplo['label']"
      ]
    },
    {
      "cell_type": "code",
      "execution_count": 10,
      "id": "YuGnCGXLWrsW",
      "metadata": {
        "colab": {
          "base_uri": "https://localhost:8080/"
        },
        "id": "YuGnCGXLWrsW",
        "outputId": "233fdc65-aa7b-4004-c791-87c93a651930"
      },
      "outputs": [
        {
          "output_type": "execute_result",
          "data": {
            "text/plain": [
              "(2, ['apple', 'banana'])"
            ]
          },
          "metadata": {},
          "execution_count": 10
        }
      ],
      "source": [
        "labels = ds['train'].features['label']\n",
        "len(labels.names), labels.names"
      ]
    },
    {
      "cell_type": "code",
      "execution_count": 11,
      "id": "wL1-5O-hXkEe",
      "metadata": {
        "colab": {
          "base_uri": "https://localhost:8080/"
        },
        "id": "wL1-5O-hXkEe",
        "outputId": "75c5719c-336c-4622-c416-dbf8c6ebd8ad"
      },
      "outputs": [
        {
          "output_type": "execute_result",
          "data": {
            "text/plain": [
              "18"
            ]
          },
          "metadata": {},
          "execution_count": 11
        }
      ],
      "source": [
        "len(ds['train'])"
      ]
    },
    {
      "cell_type": "code",
      "execution_count": 12,
      "id": "af3mjUTTYMJq",
      "metadata": {
        "id": "af3mjUTTYMJq"
      },
      "outputs": [],
      "source": [
        "my_transforms = transforms.Compose([\n",
        "    transforms.Resize((256,256)),\n",
        "    transforms.RandomHorizontalFlip(),\n",
        "    transforms.ToTensor(),\n",
        "    transforms.Normalize(mean=[0.485, 0.456, 0.406], std=[0.229, 0.224, 0.225])\n",
        "])"
      ]
    },
    {
      "cell_type": "code",
      "execution_count": 13,
      "id": "ief7lVj3V-ta",
      "metadata": {
        "id": "ief7lVj3V-ta"
      },
      "outputs": [],
      "source": [
        "train_dataset = MyDataset(ds['train'], my_transforms)\n",
        "val_dataset = MyDataset(ds['test'], my_transforms)\n",
        "\n",
        "train_loader = torch.utils.data.DataLoader(train_dataset, batch_size=64)\n",
        "val_loader = torch.utils.data.DataLoader(val_dataset, batch_size=64)"
      ]
    },
    {
      "cell_type": "code",
      "execution_count": 14,
      "id": "D6PFa9D2aHTG",
      "metadata": {
        "colab": {
          "base_uri": "https://localhost:8080/"
        },
        "id": "D6PFa9D2aHTG",
        "outputId": "00a92125-e196-4b34-ca26-7e7e164a6959"
      },
      "outputs": [
        {
          "output_type": "execute_result",
          "data": {
            "text/plain": [
              "torch.Size([3, 256, 256])"
            ]
          },
          "metadata": {},
          "execution_count": 14
        }
      ],
      "source": [
        "train_dataset[0][0].shape"
      ]
    },
    {
      "cell_type": "code",
      "execution_count": 15,
      "id": "4pyjwxaGbtv7",
      "metadata": {
        "colab": {
          "base_uri": "https://localhost:8080/"
        },
        "id": "4pyjwxaGbtv7",
        "outputId": "59a9c872-de21-44ae-a527-b026baf9c3c8"
      },
      "outputs": [
        {
          "output_type": "execute_result",
          "data": {
            "text/plain": [
              "tensor([0., 1., 0., 0., 0., 0., 0., 0., 0., 0., 0., 0., 0., 0., 0., 0., 0., 0.,\n",
              "        0., 0.])"
            ]
          },
          "metadata": {},
          "execution_count": 15
        }
      ],
      "source": [
        "train_dataset[0][1]"
      ]
    },
    {
      "cell_type": "code",
      "source": [
        "# instalar pillow\n",
        "!pip install pillow --quiet"
      ],
      "metadata": {
        "id": "PZhjar-FXOYz"
      },
      "id": "PZhjar-FXOYz",
      "execution_count": 18,
      "outputs": []
    },
    {
      "cell_type": "code",
      "execution_count": 16,
      "id": "24ce7f8b-35da-44ab-9828-ae4bed21788c",
      "metadata": {
        "colab": {
          "base_uri": "https://localhost:8080/"
        },
        "id": "24ce7f8b-35da-44ab-9828-ae4bed21788c",
        "outputId": "93e20339-2874-4a2e-cbf9-2af103b80a8c"
      },
      "outputs": [
        {
          "output_type": "stream",
          "name": "stdout",
          "text": [
            "Train Epoch: 1 [0/18 (0%)]\tLoss: 3.164459\n",
            "\n",
            "Test set: Average loss: 0.5847, Accuracy: 3/5 (60%)\n",
            "\n",
            "Train Epoch: 2 [0/18 (0%)]\tLoss: 2.066502\n",
            "\n",
            "Test set: Average loss: 0.5468, Accuracy: 3/5 (60%)\n",
            "\n",
            "Train Epoch: 3 [0/18 (0%)]\tLoss: 1.054333\n",
            "\n",
            "Test set: Average loss: 0.4876, Accuracy: 3/5 (60%)\n",
            "\n",
            "Train Epoch: 4 [0/18 (0%)]\tLoss: 0.385351\n",
            "\n",
            "Test set: Average loss: 0.4176, Accuracy: 3/5 (60%)\n",
            "\n",
            "Train Epoch: 5 [0/18 (0%)]\tLoss: 0.106190\n",
            "\n",
            "Test set: Average loss: 0.3602, Accuracy: 3/5 (60%)\n",
            "\n",
            "Train Epoch: 6 [0/18 (0%)]\tLoss: 0.036258\n",
            "\n",
            "Test set: Average loss: 0.3377, Accuracy: 3/5 (60%)\n",
            "\n",
            "Train Epoch: 7 [0/18 (0%)]\tLoss: 0.125802\n",
            "\n",
            "Test set: Average loss: 0.3488, Accuracy: 3/5 (60%)\n",
            "\n",
            "Train Epoch: 8 [0/18 (0%)]\tLoss: 0.015006\n",
            "\n",
            "Test set: Average loss: 0.3775, Accuracy: 3/5 (60%)\n",
            "\n",
            "Train Epoch: 9 [0/18 (0%)]\tLoss: 0.016879\n",
            "\n",
            "Test set: Average loss: 0.4086, Accuracy: 3/5 (60%)\n",
            "\n"
          ]
        }
      ],
      "source": [
        "import torchvision.models as models\n",
        "model = models.mobilenet_v2() # entrena desde cero\n",
        "#model = models.mobilenet_v2(pretrained=True) # hace finetuning\n",
        "model.classifier[1] = nn.Linear(model.last_channel, 20)\n",
        "model.to(device)\n",
        "\n",
        "criterion = nn.CrossEntropyLoss()\n",
        "optimizer = torch.optim.Adam(model.parameters())\n",
        "\n",
        "for epoch in range(1, 10):\n",
        "    train(model, device, train_loader, criterion, optimizer, epoch)\n",
        "    validation(model, device, val_loader, criterion)\n",
        "\n",
        "#torch.save(model.state_dict(), \"mnist_cnn.pt\")"
      ]
    },
    {
      "cell_type": "markdown",
      "id": "98394a40",
      "metadata": {
        "id": "98394a40"
      },
      "source": [
        "## Predecir una imagen nueva"
      ]
    },
    {
      "cell_type": "code",
      "execution_count": 20,
      "id": "60f4cf12",
      "metadata": {
        "colab": {
          "base_uri": "https://localhost:8080/",
          "height": 339
        },
        "id": "60f4cf12",
        "outputId": "c2cbacd4-040a-4b6c-8a2b-1b4c0135fe6b"
      },
      "outputs": [
        {
          "output_type": "error",
          "ename": "UnidentifiedImageError",
          "evalue": "cannot identify image file <_io.BytesIO object at 0x7b78d968dd50>",
          "traceback": [
            "\u001b[0;31m---------------------------------------------------------------------------\u001b[0m",
            "\u001b[0;31mUnidentifiedImageError\u001b[0m                    Traceback (most recent call last)",
            "\u001b[0;32m<ipython-input-20-0e02354c1891>\u001b[0m in \u001b[0;36m<cell line: 28>\u001b[0;34m()\u001b[0m\n\u001b[1;32m     26\u001b[0m \u001b[0;34m\u001b[0m\u001b[0m\n\u001b[1;32m     27\u001b[0m \u001b[0mimage_path\u001b[0m \u001b[0;34m=\u001b[0m \u001b[0;34m'https://www.collinsdictionary.com/images/full/banana_64728013.jpg'\u001b[0m\u001b[0;34m\u001b[0m\u001b[0;34m\u001b[0m\u001b[0m\n\u001b[0;32m---> 28\u001b[0;31m \u001b[0mpredicted_class\u001b[0m \u001b[0;34m=\u001b[0m \u001b[0mpredict_image\u001b[0m\u001b[0;34m(\u001b[0m\u001b[0mmodel\u001b[0m\u001b[0;34m,\u001b[0m \u001b[0mimage_path\u001b[0m\u001b[0;34m)\u001b[0m\u001b[0;34m\u001b[0m\u001b[0;34m\u001b[0m\u001b[0m\n\u001b[0m\u001b[1;32m     29\u001b[0m \u001b[0mprint\u001b[0m\u001b[0;34m(\u001b[0m\u001b[0;34mf\"The predicted class for the image is: {predicted_class}\"\u001b[0m\u001b[0;34m)\u001b[0m\u001b[0;34m\u001b[0m\u001b[0;34m\u001b[0m\u001b[0m\n",
            "\u001b[0;32m<ipython-input-20-0e02354c1891>\u001b[0m in \u001b[0;36mpredict_image\u001b[0;34m(model, image_path)\u001b[0m\n\u001b[1;32m     14\u001b[0m     \u001b[0;32mif\u001b[0m \u001b[0mimage_path\u001b[0m\u001b[0;34m.\u001b[0m\u001b[0mstartswith\u001b[0m\u001b[0;34m(\u001b[0m\u001b[0;34m\"http\"\u001b[0m\u001b[0;34m)\u001b[0m\u001b[0;34m:\u001b[0m\u001b[0;34m\u001b[0m\u001b[0;34m\u001b[0m\u001b[0m\n\u001b[1;32m     15\u001b[0m         \u001b[0mresponse\u001b[0m \u001b[0;34m=\u001b[0m \u001b[0mrequests\u001b[0m\u001b[0;34m.\u001b[0m\u001b[0mget\u001b[0m\u001b[0;34m(\u001b[0m\u001b[0mimage_path\u001b[0m\u001b[0;34m)\u001b[0m\u001b[0;34m\u001b[0m\u001b[0;34m\u001b[0m\u001b[0m\n\u001b[0;32m---> 16\u001b[0;31m         \u001b[0mimage\u001b[0m \u001b[0;34m=\u001b[0m \u001b[0mImage\u001b[0m\u001b[0;34m.\u001b[0m\u001b[0mopen\u001b[0m\u001b[0;34m(\u001b[0m\u001b[0mBytesIO\u001b[0m\u001b[0;34m(\u001b[0m\u001b[0mresponse\u001b[0m\u001b[0;34m.\u001b[0m\u001b[0mcontent\u001b[0m\u001b[0;34m)\u001b[0m\u001b[0;34m)\u001b[0m\u001b[0;34m\u001b[0m\u001b[0;34m\u001b[0m\u001b[0m\n\u001b[0m\u001b[1;32m     17\u001b[0m     \u001b[0;32melse\u001b[0m\u001b[0;34m:\u001b[0m\u001b[0;34m\u001b[0m\u001b[0;34m\u001b[0m\u001b[0m\n\u001b[1;32m     18\u001b[0m         \u001b[0mimage\u001b[0m \u001b[0;34m=\u001b[0m \u001b[0mImage\u001b[0m\u001b[0;34m.\u001b[0m\u001b[0mopen\u001b[0m\u001b[0;34m(\u001b[0m\u001b[0mimage_path\u001b[0m\u001b[0;34m)\u001b[0m\u001b[0;34m\u001b[0m\u001b[0;34m\u001b[0m\u001b[0m\n",
            "\u001b[0;32m/usr/local/lib/python3.10/dist-packages/PIL/Image.py\u001b[0m in \u001b[0;36mopen\u001b[0;34m(fp, mode, formats)\u001b[0m\n\u001b[1;32m   3496\u001b[0m         \u001b[0mwarnings\u001b[0m\u001b[0;34m.\u001b[0m\u001b[0mwarn\u001b[0m\u001b[0;34m(\u001b[0m\u001b[0mmessage\u001b[0m\u001b[0;34m)\u001b[0m\u001b[0;34m\u001b[0m\u001b[0;34m\u001b[0m\u001b[0m\n\u001b[1;32m   3497\u001b[0m     \u001b[0mmsg\u001b[0m \u001b[0;34m=\u001b[0m \u001b[0;34m\"cannot identify image file %r\"\u001b[0m \u001b[0;34m%\u001b[0m \u001b[0;34m(\u001b[0m\u001b[0mfilename\u001b[0m \u001b[0;32mif\u001b[0m \u001b[0mfilename\u001b[0m \u001b[0;32melse\u001b[0m \u001b[0mfp\u001b[0m\u001b[0;34m)\u001b[0m\u001b[0;34m\u001b[0m\u001b[0;34m\u001b[0m\u001b[0m\n\u001b[0;32m-> 3498\u001b[0;31m     \u001b[0;32mraise\u001b[0m \u001b[0mUnidentifiedImageError\u001b[0m\u001b[0;34m(\u001b[0m\u001b[0mmsg\u001b[0m\u001b[0;34m)\u001b[0m\u001b[0;34m\u001b[0m\u001b[0;34m\u001b[0m\u001b[0m\n\u001b[0m\u001b[1;32m   3499\u001b[0m \u001b[0;34m\u001b[0m\u001b[0m\n\u001b[1;32m   3500\u001b[0m \u001b[0;34m\u001b[0m\u001b[0m\n",
            "\u001b[0;31mUnidentifiedImageError\u001b[0m: cannot identify image file <_io.BytesIO object at 0x7b78d968dd50>"
          ]
        }
      ],
      "source": [
        "import requests\n",
        "from io import BytesIO\n",
        "from PIL import Image\n",
        "import torch\n",
        "from torchvision import transforms\n",
        "\n",
        "def predict_image(model, image_path):\n",
        "    model.eval()\n",
        "    transform = transforms.Compose([\n",
        "        transforms.Resize((256, 256)),\n",
        "        transforms.ToTensor(),\n",
        "        transforms.Normalize(mean=[0.485, 0.456, 0.406], std=[0.229, 0.224, 0.225])\n",
        "    ])\n",
        "    if image_path.startswith(\"http\"):\n",
        "        response = requests.get(image_path)\n",
        "        image = Image.open(BytesIO(response.content))\n",
        "    else:\n",
        "        image = Image.open(image_path)\n",
        "    image = transform(image).unsqueeze(0).to(device)\n",
        "\n",
        "    with torch.no_grad():\n",
        "        output = model(image)\n",
        "        predicted_class = output.argmax(dim=1).item()\n",
        "\n",
        "    return predicted_class\n",
        "\n",
        "image_path = 'https://www.collinsdictionary.com/images/full/banana_64728013.jpg'\n",
        "predicted_class = predict_image(model, image_path)\n",
        "print(f\"The predicted class for the image is: {predicted_class}\")\n"
      ]
    },
    {
      "cell_type": "markdown",
      "id": "8d39fe96",
      "metadata": {
        "id": "8d39fe96"
      },
      "source": [
        "## Como guardar el modelo entrenado en hugging face"
      ]
    },
    {
      "cell_type": "code",
      "execution_count": null,
      "id": "5544748d",
      "metadata": {
        "id": "5544748d"
      },
      "outputs": [],
      "source": [
        "from huggingface_hub import HfApi\n",
        "from huggingface_hub import notebook_login\n",
        "\n",
        "notebook_login()\n",
        "\n",
        "# cambiar el nombre de usuario\n",
        "nombre_del_modelo = \"amiune/snack-classifier-pytorch\"\n",
        "\n",
        "api = HfApi()\n",
        "api.create_repo(repo_id=nombre_del_modelo, exist_ok=True)\n",
        "\n",
        "\n",
        "model_path = \"snack-classifier\"\n",
        "os.makedirs(model_path, exist_ok=True)\n",
        "torch.save(model.state_dict(), os.path.join(model_path, \"pytorch_model.bin\"))\n",
        "\n",
        "api.upload_folder(\n",
        "    folder_path=model_path,\n",
        "    path_in_repo=\"\",\n",
        "    repo_id=nombre_del_modelo,\n",
        ")\n"
      ]
    },
    {
      "cell_type": "markdown",
      "id": "39b69260-68ff-42de-86a6-211ec46c9ddb",
      "metadata": {
        "id": "39b69260-68ff-42de-86a6-211ec46c9ddb"
      },
      "source": [
        "# Fin: [Volver al contenido del curso](https://www.freecodingtour.com/cursos/espanol/deeplearning/deeplearning.html)"
      ]
    },
    {
      "cell_type": "markdown",
      "id": "b8c7230e-a643-4a50-b89a-dc51271a8303",
      "metadata": {
        "id": "b8c7230e-a643-4a50-b89a-dc51271a8303"
      },
      "source": [
        "## Referencias:\n",
        "\n",
        "- https://github.com/pytorch/examples/blob/main/mnist/main.py\n",
        "- https://www.kaggle.com/datasets/oddrationale/mnist-in-csv"
      ]
    }
  ],
  "metadata": {
    "accelerator": "GPU",
    "colab": {
      "gpuType": "T4",
      "machine_shape": "hm",
      "provenance": []
    },
    "kernelspec": {
      "display_name": "Python 3",
      "name": "python3"
    },
    "language_info": {
      "codemirror_mode": {
        "name": "ipython",
        "version": 3
      },
      "file_extension": ".py",
      "mimetype": "text/x-python",
      "name": "python",
      "nbconvert_exporter": "python",
      "pygments_lexer": "ipython3",
      "version": "3.9.7"
    },
    "widgets": {
      "application/vnd.jupyter.widget-state+json": {
        "cbde364a15a04d748762a254016ae774": {
          "model_module": "@jupyter-widgets/controls",
          "model_name": "HBoxModel",
          "model_module_version": "1.5.0",
          "state": {
            "_dom_classes": [],
            "_model_module": "@jupyter-widgets/controls",
            "_model_module_version": "1.5.0",
            "_model_name": "HBoxModel",
            "_view_count": null,
            "_view_module": "@jupyter-widgets/controls",
            "_view_module_version": "1.5.0",
            "_view_name": "HBoxView",
            "box_style": "",
            "children": [
              "IPY_MODEL_3aa753f7bff3469792edea7e4df5b099",
              "IPY_MODEL_ce72a6b8e038401bb0bab54b8bd422ce",
              "IPY_MODEL_d3fa25ba57d64b5fb5f1794d351ab2f9"
            ],
            "layout": "IPY_MODEL_bf76fa2a8fde45ee9fc1b730931f4a04"
          }
        },
        "3aa753f7bff3469792edea7e4df5b099": {
          "model_module": "@jupyter-widgets/controls",
          "model_name": "HTMLModel",
          "model_module_version": "1.5.0",
          "state": {
            "_dom_classes": [],
            "_model_module": "@jupyter-widgets/controls",
            "_model_module_version": "1.5.0",
            "_model_name": "HTMLModel",
            "_view_count": null,
            "_view_module": "@jupyter-widgets/controls",
            "_view_module_version": "1.5.0",
            "_view_name": "HTMLView",
            "description": "",
            "description_tooltip": null,
            "layout": "IPY_MODEL_7f2bdbaa45474da5a63ad077edcd7810",
            "placeholder": "​",
            "style": "IPY_MODEL_b8b6f55f456a423cb1658d4fba401673",
            "value": "Fruits.zip: 100%"
          }
        },
        "ce72a6b8e038401bb0bab54b8bd422ce": {
          "model_module": "@jupyter-widgets/controls",
          "model_name": "FloatProgressModel",
          "model_module_version": "1.5.0",
          "state": {
            "_dom_classes": [],
            "_model_module": "@jupyter-widgets/controls",
            "_model_module_version": "1.5.0",
            "_model_name": "FloatProgressModel",
            "_view_count": null,
            "_view_module": "@jupyter-widgets/controls",
            "_view_module_version": "1.5.0",
            "_view_name": "ProgressView",
            "bar_style": "success",
            "description": "",
            "description_tooltip": null,
            "layout": "IPY_MODEL_c3315a47409e495099ee31cc3d47ba2d",
            "max": 177580,
            "min": 0,
            "orientation": "horizontal",
            "style": "IPY_MODEL_0dcd43264539409b8983718e2e5bf75c",
            "value": 177580
          }
        },
        "d3fa25ba57d64b5fb5f1794d351ab2f9": {
          "model_module": "@jupyter-widgets/controls",
          "model_name": "HTMLModel",
          "model_module_version": "1.5.0",
          "state": {
            "_dom_classes": [],
            "_model_module": "@jupyter-widgets/controls",
            "_model_module_version": "1.5.0",
            "_model_name": "HTMLModel",
            "_view_count": null,
            "_view_module": "@jupyter-widgets/controls",
            "_view_module_version": "1.5.0",
            "_view_name": "HTMLView",
            "description": "",
            "description_tooltip": null,
            "layout": "IPY_MODEL_50bcf14dd0fd44c4b563ed897ad539cd",
            "placeholder": "​",
            "style": "IPY_MODEL_a3f1add070124869bf4db97e3595b597",
            "value": " 178k/178k [00:00&lt;00:00, 2.74MB/s]"
          }
        },
        "bf76fa2a8fde45ee9fc1b730931f4a04": {
          "model_module": "@jupyter-widgets/base",
          "model_name": "LayoutModel",
          "model_module_version": "1.2.0",
          "state": {
            "_model_module": "@jupyter-widgets/base",
            "_model_module_version": "1.2.0",
            "_model_name": "LayoutModel",
            "_view_count": null,
            "_view_module": "@jupyter-widgets/base",
            "_view_module_version": "1.2.0",
            "_view_name": "LayoutView",
            "align_content": null,
            "align_items": null,
            "align_self": null,
            "border": null,
            "bottom": null,
            "display": null,
            "flex": null,
            "flex_flow": null,
            "grid_area": null,
            "grid_auto_columns": null,
            "grid_auto_flow": null,
            "grid_auto_rows": null,
            "grid_column": null,
            "grid_gap": null,
            "grid_row": null,
            "grid_template_areas": null,
            "grid_template_columns": null,
            "grid_template_rows": null,
            "height": null,
            "justify_content": null,
            "justify_items": null,
            "left": null,
            "margin": null,
            "max_height": null,
            "max_width": null,
            "min_height": null,
            "min_width": null,
            "object_fit": null,
            "object_position": null,
            "order": null,
            "overflow": null,
            "overflow_x": null,
            "overflow_y": null,
            "padding": null,
            "right": null,
            "top": null,
            "visibility": null,
            "width": null
          }
        },
        "7f2bdbaa45474da5a63ad077edcd7810": {
          "model_module": "@jupyter-widgets/base",
          "model_name": "LayoutModel",
          "model_module_version": "1.2.0",
          "state": {
            "_model_module": "@jupyter-widgets/base",
            "_model_module_version": "1.2.0",
            "_model_name": "LayoutModel",
            "_view_count": null,
            "_view_module": "@jupyter-widgets/base",
            "_view_module_version": "1.2.0",
            "_view_name": "LayoutView",
            "align_content": null,
            "align_items": null,
            "align_self": null,
            "border": null,
            "bottom": null,
            "display": null,
            "flex": null,
            "flex_flow": null,
            "grid_area": null,
            "grid_auto_columns": null,
            "grid_auto_flow": null,
            "grid_auto_rows": null,
            "grid_column": null,
            "grid_gap": null,
            "grid_row": null,
            "grid_template_areas": null,
            "grid_template_columns": null,
            "grid_template_rows": null,
            "height": null,
            "justify_content": null,
            "justify_items": null,
            "left": null,
            "margin": null,
            "max_height": null,
            "max_width": null,
            "min_height": null,
            "min_width": null,
            "object_fit": null,
            "object_position": null,
            "order": null,
            "overflow": null,
            "overflow_x": null,
            "overflow_y": null,
            "padding": null,
            "right": null,
            "top": null,
            "visibility": null,
            "width": null
          }
        },
        "b8b6f55f456a423cb1658d4fba401673": {
          "model_module": "@jupyter-widgets/controls",
          "model_name": "DescriptionStyleModel",
          "model_module_version": "1.5.0",
          "state": {
            "_model_module": "@jupyter-widgets/controls",
            "_model_module_version": "1.5.0",
            "_model_name": "DescriptionStyleModel",
            "_view_count": null,
            "_view_module": "@jupyter-widgets/base",
            "_view_module_version": "1.2.0",
            "_view_name": "StyleView",
            "description_width": ""
          }
        },
        "c3315a47409e495099ee31cc3d47ba2d": {
          "model_module": "@jupyter-widgets/base",
          "model_name": "LayoutModel",
          "model_module_version": "1.2.0",
          "state": {
            "_model_module": "@jupyter-widgets/base",
            "_model_module_version": "1.2.0",
            "_model_name": "LayoutModel",
            "_view_count": null,
            "_view_module": "@jupyter-widgets/base",
            "_view_module_version": "1.2.0",
            "_view_name": "LayoutView",
            "align_content": null,
            "align_items": null,
            "align_self": null,
            "border": null,
            "bottom": null,
            "display": null,
            "flex": null,
            "flex_flow": null,
            "grid_area": null,
            "grid_auto_columns": null,
            "grid_auto_flow": null,
            "grid_auto_rows": null,
            "grid_column": null,
            "grid_gap": null,
            "grid_row": null,
            "grid_template_areas": null,
            "grid_template_columns": null,
            "grid_template_rows": null,
            "height": null,
            "justify_content": null,
            "justify_items": null,
            "left": null,
            "margin": null,
            "max_height": null,
            "max_width": null,
            "min_height": null,
            "min_width": null,
            "object_fit": null,
            "object_position": null,
            "order": null,
            "overflow": null,
            "overflow_x": null,
            "overflow_y": null,
            "padding": null,
            "right": null,
            "top": null,
            "visibility": null,
            "width": null
          }
        },
        "0dcd43264539409b8983718e2e5bf75c": {
          "model_module": "@jupyter-widgets/controls",
          "model_name": "ProgressStyleModel",
          "model_module_version": "1.5.0",
          "state": {
            "_model_module": "@jupyter-widgets/controls",
            "_model_module_version": "1.5.0",
            "_model_name": "ProgressStyleModel",
            "_view_count": null,
            "_view_module": "@jupyter-widgets/base",
            "_view_module_version": "1.2.0",
            "_view_name": "StyleView",
            "bar_color": null,
            "description_width": ""
          }
        },
        "50bcf14dd0fd44c4b563ed897ad539cd": {
          "model_module": "@jupyter-widgets/base",
          "model_name": "LayoutModel",
          "model_module_version": "1.2.0",
          "state": {
            "_model_module": "@jupyter-widgets/base",
            "_model_module_version": "1.2.0",
            "_model_name": "LayoutModel",
            "_view_count": null,
            "_view_module": "@jupyter-widgets/base",
            "_view_module_version": "1.2.0",
            "_view_name": "LayoutView",
            "align_content": null,
            "align_items": null,
            "align_self": null,
            "border": null,
            "bottom": null,
            "display": null,
            "flex": null,
            "flex_flow": null,
            "grid_area": null,
            "grid_auto_columns": null,
            "grid_auto_flow": null,
            "grid_auto_rows": null,
            "grid_column": null,
            "grid_gap": null,
            "grid_row": null,
            "grid_template_areas": null,
            "grid_template_columns": null,
            "grid_template_rows": null,
            "height": null,
            "justify_content": null,
            "justify_items": null,
            "left": null,
            "margin": null,
            "max_height": null,
            "max_width": null,
            "min_height": null,
            "min_width": null,
            "object_fit": null,
            "object_position": null,
            "order": null,
            "overflow": null,
            "overflow_x": null,
            "overflow_y": null,
            "padding": null,
            "right": null,
            "top": null,
            "visibility": null,
            "width": null
          }
        },
        "a3f1add070124869bf4db97e3595b597": {
          "model_module": "@jupyter-widgets/controls",
          "model_name": "DescriptionStyleModel",
          "model_module_version": "1.5.0",
          "state": {
            "_model_module": "@jupyter-widgets/controls",
            "_model_module_version": "1.5.0",
            "_model_name": "DescriptionStyleModel",
            "_view_count": null,
            "_view_module": "@jupyter-widgets/base",
            "_view_module_version": "1.2.0",
            "_view_name": "StyleView",
            "description_width": ""
          }
        },
        "d3d9b6b8e611429ab7c32f616fa0c32f": {
          "model_module": "@jupyter-widgets/controls",
          "model_name": "HBoxModel",
          "model_module_version": "1.5.0",
          "state": {
            "_dom_classes": [],
            "_model_module": "@jupyter-widgets/controls",
            "_model_module_version": "1.5.0",
            "_model_name": "HBoxModel",
            "_view_count": null,
            "_view_module": "@jupyter-widgets/controls",
            "_view_module_version": "1.5.0",
            "_view_name": "HBoxView",
            "box_style": "",
            "children": [
              "IPY_MODEL_ce2057f0cbbc4194922d36a8c4626b11",
              "IPY_MODEL_ce227dc964cd4aefaa9a8b1215208832",
              "IPY_MODEL_b29baf0ccac34e7bb890660787faec05"
            ],
            "layout": "IPY_MODEL_03a69aae2d394cdbb4b886b8116a5f16"
          }
        },
        "ce2057f0cbbc4194922d36a8c4626b11": {
          "model_module": "@jupyter-widgets/controls",
          "model_name": "HTMLModel",
          "model_module_version": "1.5.0",
          "state": {
            "_dom_classes": [],
            "_model_module": "@jupyter-widgets/controls",
            "_model_module_version": "1.5.0",
            "_model_name": "HTMLModel",
            "_view_count": null,
            "_view_module": "@jupyter-widgets/controls",
            "_view_module_version": "1.5.0",
            "_view_name": "HTMLView",
            "description": "",
            "description_tooltip": null,
            "layout": "IPY_MODEL_defd1087fa3b474aa05cd76317b17038",
            "placeholder": "​",
            "style": "IPY_MODEL_cce33540fa86433e93b37097355e772b",
            "value": "Generating train split: 100%"
          }
        },
        "ce227dc964cd4aefaa9a8b1215208832": {
          "model_module": "@jupyter-widgets/controls",
          "model_name": "FloatProgressModel",
          "model_module_version": "1.5.0",
          "state": {
            "_dom_classes": [],
            "_model_module": "@jupyter-widgets/controls",
            "_model_module_version": "1.5.0",
            "_model_name": "FloatProgressModel",
            "_view_count": null,
            "_view_module": "@jupyter-widgets/controls",
            "_view_module_version": "1.5.0",
            "_view_name": "ProgressView",
            "bar_style": "success",
            "description": "",
            "description_tooltip": null,
            "layout": "IPY_MODEL_ddb3b2267d3f4a5ca52a17ae35ffa3f2",
            "max": 23,
            "min": 0,
            "orientation": "horizontal",
            "style": "IPY_MODEL_9e5c5bd5c32d48c788c955e36917b3ce",
            "value": 23
          }
        },
        "b29baf0ccac34e7bb890660787faec05": {
          "model_module": "@jupyter-widgets/controls",
          "model_name": "HTMLModel",
          "model_module_version": "1.5.0",
          "state": {
            "_dom_classes": [],
            "_model_module": "@jupyter-widgets/controls",
            "_model_module_version": "1.5.0",
            "_model_name": "HTMLModel",
            "_view_count": null,
            "_view_module": "@jupyter-widgets/controls",
            "_view_module_version": "1.5.0",
            "_view_name": "HTMLView",
            "description": "",
            "description_tooltip": null,
            "layout": "IPY_MODEL_4f98863287904abcad5d371e4e1ca559",
            "placeholder": "​",
            "style": "IPY_MODEL_762ba42d975048d38a720dbf14609f18",
            "value": " 23/23 [00:00&lt;00:00, 182.54 examples/s]"
          }
        },
        "03a69aae2d394cdbb4b886b8116a5f16": {
          "model_module": "@jupyter-widgets/base",
          "model_name": "LayoutModel",
          "model_module_version": "1.2.0",
          "state": {
            "_model_module": "@jupyter-widgets/base",
            "_model_module_version": "1.2.0",
            "_model_name": "LayoutModel",
            "_view_count": null,
            "_view_module": "@jupyter-widgets/base",
            "_view_module_version": "1.2.0",
            "_view_name": "LayoutView",
            "align_content": null,
            "align_items": null,
            "align_self": null,
            "border": null,
            "bottom": null,
            "display": null,
            "flex": null,
            "flex_flow": null,
            "grid_area": null,
            "grid_auto_columns": null,
            "grid_auto_flow": null,
            "grid_auto_rows": null,
            "grid_column": null,
            "grid_gap": null,
            "grid_row": null,
            "grid_template_areas": null,
            "grid_template_columns": null,
            "grid_template_rows": null,
            "height": null,
            "justify_content": null,
            "justify_items": null,
            "left": null,
            "margin": null,
            "max_height": null,
            "max_width": null,
            "min_height": null,
            "min_width": null,
            "object_fit": null,
            "object_position": null,
            "order": null,
            "overflow": null,
            "overflow_x": null,
            "overflow_y": null,
            "padding": null,
            "right": null,
            "top": null,
            "visibility": null,
            "width": null
          }
        },
        "defd1087fa3b474aa05cd76317b17038": {
          "model_module": "@jupyter-widgets/base",
          "model_name": "LayoutModel",
          "model_module_version": "1.2.0",
          "state": {
            "_model_module": "@jupyter-widgets/base",
            "_model_module_version": "1.2.0",
            "_model_name": "LayoutModel",
            "_view_count": null,
            "_view_module": "@jupyter-widgets/base",
            "_view_module_version": "1.2.0",
            "_view_name": "LayoutView",
            "align_content": null,
            "align_items": null,
            "align_self": null,
            "border": null,
            "bottom": null,
            "display": null,
            "flex": null,
            "flex_flow": null,
            "grid_area": null,
            "grid_auto_columns": null,
            "grid_auto_flow": null,
            "grid_auto_rows": null,
            "grid_column": null,
            "grid_gap": null,
            "grid_row": null,
            "grid_template_areas": null,
            "grid_template_columns": null,
            "grid_template_rows": null,
            "height": null,
            "justify_content": null,
            "justify_items": null,
            "left": null,
            "margin": null,
            "max_height": null,
            "max_width": null,
            "min_height": null,
            "min_width": null,
            "object_fit": null,
            "object_position": null,
            "order": null,
            "overflow": null,
            "overflow_x": null,
            "overflow_y": null,
            "padding": null,
            "right": null,
            "top": null,
            "visibility": null,
            "width": null
          }
        },
        "cce33540fa86433e93b37097355e772b": {
          "model_module": "@jupyter-widgets/controls",
          "model_name": "DescriptionStyleModel",
          "model_module_version": "1.5.0",
          "state": {
            "_model_module": "@jupyter-widgets/controls",
            "_model_module_version": "1.5.0",
            "_model_name": "DescriptionStyleModel",
            "_view_count": null,
            "_view_module": "@jupyter-widgets/base",
            "_view_module_version": "1.2.0",
            "_view_name": "StyleView",
            "description_width": ""
          }
        },
        "ddb3b2267d3f4a5ca52a17ae35ffa3f2": {
          "model_module": "@jupyter-widgets/base",
          "model_name": "LayoutModel",
          "model_module_version": "1.2.0",
          "state": {
            "_model_module": "@jupyter-widgets/base",
            "_model_module_version": "1.2.0",
            "_model_name": "LayoutModel",
            "_view_count": null,
            "_view_module": "@jupyter-widgets/base",
            "_view_module_version": "1.2.0",
            "_view_name": "LayoutView",
            "align_content": null,
            "align_items": null,
            "align_self": null,
            "border": null,
            "bottom": null,
            "display": null,
            "flex": null,
            "flex_flow": null,
            "grid_area": null,
            "grid_auto_columns": null,
            "grid_auto_flow": null,
            "grid_auto_rows": null,
            "grid_column": null,
            "grid_gap": null,
            "grid_row": null,
            "grid_template_areas": null,
            "grid_template_columns": null,
            "grid_template_rows": null,
            "height": null,
            "justify_content": null,
            "justify_items": null,
            "left": null,
            "margin": null,
            "max_height": null,
            "max_width": null,
            "min_height": null,
            "min_width": null,
            "object_fit": null,
            "object_position": null,
            "order": null,
            "overflow": null,
            "overflow_x": null,
            "overflow_y": null,
            "padding": null,
            "right": null,
            "top": null,
            "visibility": null,
            "width": null
          }
        },
        "9e5c5bd5c32d48c788c955e36917b3ce": {
          "model_module": "@jupyter-widgets/controls",
          "model_name": "ProgressStyleModel",
          "model_module_version": "1.5.0",
          "state": {
            "_model_module": "@jupyter-widgets/controls",
            "_model_module_version": "1.5.0",
            "_model_name": "ProgressStyleModel",
            "_view_count": null,
            "_view_module": "@jupyter-widgets/base",
            "_view_module_version": "1.2.0",
            "_view_name": "StyleView",
            "bar_color": null,
            "description_width": ""
          }
        },
        "4f98863287904abcad5d371e4e1ca559": {
          "model_module": "@jupyter-widgets/base",
          "model_name": "LayoutModel",
          "model_module_version": "1.2.0",
          "state": {
            "_model_module": "@jupyter-widgets/base",
            "_model_module_version": "1.2.0",
            "_model_name": "LayoutModel",
            "_view_count": null,
            "_view_module": "@jupyter-widgets/base",
            "_view_module_version": "1.2.0",
            "_view_name": "LayoutView",
            "align_content": null,
            "align_items": null,
            "align_self": null,
            "border": null,
            "bottom": null,
            "display": null,
            "flex": null,
            "flex_flow": null,
            "grid_area": null,
            "grid_auto_columns": null,
            "grid_auto_flow": null,
            "grid_auto_rows": null,
            "grid_column": null,
            "grid_gap": null,
            "grid_row": null,
            "grid_template_areas": null,
            "grid_template_columns": null,
            "grid_template_rows": null,
            "height": null,
            "justify_content": null,
            "justify_items": null,
            "left": null,
            "margin": null,
            "max_height": null,
            "max_width": null,
            "min_height": null,
            "min_width": null,
            "object_fit": null,
            "object_position": null,
            "order": null,
            "overflow": null,
            "overflow_x": null,
            "overflow_y": null,
            "padding": null,
            "right": null,
            "top": null,
            "visibility": null,
            "width": null
          }
        },
        "762ba42d975048d38a720dbf14609f18": {
          "model_module": "@jupyter-widgets/controls",
          "model_name": "DescriptionStyleModel",
          "model_module_version": "1.5.0",
          "state": {
            "_model_module": "@jupyter-widgets/controls",
            "_model_module_version": "1.5.0",
            "_model_name": "DescriptionStyleModel",
            "_view_count": null,
            "_view_module": "@jupyter-widgets/base",
            "_view_module_version": "1.2.0",
            "_view_name": "StyleView",
            "description_width": ""
          }
        }
      }
    }
  },
  "nbformat": 4,
  "nbformat_minor": 5
}