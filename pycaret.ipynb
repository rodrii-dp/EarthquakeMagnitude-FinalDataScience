{
 "cells": [
  {
   "metadata": {
    "ExecuteTime": {
     "end_time": "2024-10-23T22:45:24.723837Z",
     "start_time": "2024-10-23T22:45:16.528049Z"
    }
   },
   "cell_type": "code",
   "source": [
    "import requests\n",
    "import pandas as pd\n",
    "import sweetviz as sv\n",
    "\n",
    "def request(url, params):\n",
    "    response = requests.get(url, params=params)\n",
    "\n",
    "    if response.status_code == 200:\n",
    "        data = response.json()\n",
    "        return data\n",
    "    else:\n",
    "        print(f\"Error en la solicitud: {response.status_code}\")\n",
    "        return None\n",
    "\n",
    "url = 'https://earthquake.usgs.gov/fdsnws/event/1/query'\n",
    "params = {\n",
    "    'format': 'geojson',\n",
    "    'starttime': '2014-10-21',\n",
    "    'endtime': '2015-10-21',\n",
    "    'minmagnitude': 0,\n",
    "    'limit': 20000,\n",
    "}\n",
    "\n",
    "response = request(url, params)"
   ],
   "id": "3c7cd7f372feb238",
   "outputs": [
    {
     "name": "stdout",
     "output_type": "stream",
     "text": [
      "zsh:1: command not found: pip\r\n"
     ]
    }
   ],
   "execution_count": 1
  },
  {
   "metadata": {
    "ExecuteTime": {
     "end_time": "2024-10-23T09:56:24.456345Z",
     "start_time": "2024-10-23T09:56:20.944525Z"
    }
   },
   "cell_type": "code",
   "source": [
    "if response is not None:\n",
    "    earthquakes = []\n",
    "    for feature in response['features']:\n",
    "        properties = feature['properties']\n",
    "        geometry = feature['geometry']\n",
    "\n",
    "        earthquake_info = {\n",
    "            'place': properties['place'],\n",
    "            'magnitude': properties['mag'],\n",
    "            'time': pd.to_datetime(properties['time'], unit='ms'),\n",
    "            'latitude': geometry['coordinates'][1],\n",
    "            'longitude': geometry['coordinates'][0],\n",
    "            'depth': geometry['coordinates'][2],\n",
    "        }\n",
    "        earthquakes.append(earthquake_info)\n",
    "\n",
    "    df = pd.DataFrame(earthquakes)\n",
    "\n",
    "    df.to_csv('earthquakes_last_10_years.csv', index=False)\n",
    "    print(\"Datos guardados en 'earthquakes_last_10_years.csv'.\")\n",
    "\n",
    "    df.to_excel('earthquakes_last_10_years.xlsx', index=False)\n",
    "    print(\"Datos guardados en 'earthquakes_last_10_years.xlsx'.\")\n",
    "\n",
    "    report = sv.analyze(df)  \n",
    "    report.show_html('earthquake_data_report.html')  \n",
    "    print(\"Análisis exploratorio de datos guardado en 'earthquake_data_report.html'.\")\n",
    "\n",
    "\n",
    "    train_data = pd.concat([X_train, y_train], axis=1)\n",
    "    test_data = pd.concat([X_test, y_test], axis=1)\n",
    "\n",
    "# 1. Realizar el análisis comparativo entre el conjunto de entrenamiento y el de prueba\n",
    "    comparison_report = sv.compare([train_data, \"Training Data\"], [test_data, \"Test Data\"])\n",
    "\n",
    "# 2. Generar y guardar el reporte comparativo en HTML\n",
    "    comparison_report.show_html('comparison_train_test.html')\n",
    "\n",
    "    print(\"Análisis comparativo entre el dataset de entrenamiento y el de prueba guardado en 'comparison_train_test.html'.\")\n"
   ],
   "id": "f11455c9846724c",
   "outputs": [
    {
     "name": "stdout",
     "output_type": "stream",
     "text": [
      "Datos guardados en 'earthquakes_last_10_years.csv'.\n",
      "Datos guardados en 'earthquakes_last_10_years.xlsx'.\n"
     ]
    }
   ],
   "execution_count": 2
  },
  {
   "metadata": {},
   "cell_type": "code",
   "outputs": [],
   "execution_count": null,
   "source": [
    "from pycaret.regression import *\n",
    "from sklearn.model_selection import train_test_split\n",
    "\n",
    "df['year'] = df['time'].dt.year\n",
    "df['month'] = df['time'].dt.month\n",
    "df['day'] = df['time'].dt.day\n",
    "df['hour'] = df['time'].dt.hour\n",
    "df['minute'] = df['time'].dt.minute\n",
    "df['second'] = df['time'].dt.second\n",
    "\n",
    "df = df.drop(columns=['place', 'time'])\n",
    "\n",
    "X = df.drop(columns=['magnitude'])\n",
    "y = df['magnitude']\n",
    "\n",
    "X_train, X_test, y_train, y_test = train_test_split(X, y, test_size=0.2, random_state=42)\n",
    "\n",
    "train_data = pd.concat([X_train, y_train], axis=1)\n",
    "test_data = pd.concat([X_test, y_test], axis=1)\n",
    "\n",
    "exp_reg = setup(data=train_data, target='magnitude', session_id=123,\n",
    "                normalize=True,\n",
    "                categorical_features=['year', 'month', 'day', 'hour', 'minute', 'second'])\n",
    "\n",
    "best_model = compare_models()\n",
    "\n",
    "final_model = create_model(best_model)\n",
    "\n",
    "predictions = predict_model(final_model, data=test_data)\n",
    "\n",
    "print(predictions[['magnitude']])\n",
    "\n",
    "plot_model(final_model, plot='residuals')\n",
    "plot_model(final_model, plot='error')\n",
    "\n",
    "final_tuned_model = finalize_model(final_model)\n",
    "save_model(final_tuned_model, 'best_earthquake_model')\n",
    "\n",
    "\n",
    "df_train = pd.concat([X_train, y_train], axis=1)\n",
    "df_test = pd.concat([X_test, y_test], axis=1)\n",
    "\n",
    "#Análisis Exploratorio de Datos con Sweetviz\n",
    "# Comparar el dataset de entrenamiento con el de prueba, enfocándose en la columna 'magnitude'\n",
    "my_report = sv.compare([df_train, \"Training Data\"], [df_test, \"Test Data\"], target_feat=\"magnitude\")\n",
    "\n",
    "#Mostrar y guardar el reporte como HTML\n",
    "my_report.show_html('earthquake_comparison_report.html')\n",
    "print(\"Análisis comparativo guardado en 'earthquake_comparison_report.html'.\")\n",
    "\n",
    "\n"
   ],
   "id": "71238a7b00b3f712"
  }
 ],
 "metadata": {
  "kernelspec": {
   "display_name": "Python 3",
   "language": "python",
   "name": "python3"
  },
  "language_info": {
   "codemirror_mode": {
    "name": "ipython",
    "version": 2
   },
   "file_extension": ".py",
   "mimetype": "text/x-python",
   "name": "python",
   "nbconvert_exporter": "python",
   "pygments_lexer": "ipython2",
   "version": "2.7.6"
  }
 },
 "nbformat": 4,
 "nbformat_minor": 5
}
